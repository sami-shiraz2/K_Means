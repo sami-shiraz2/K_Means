{
  "nbformat": 4,
  "nbformat_minor": 0,
  "metadata": {
    "colab": {
      "name": "K_means.ipynb",
      "provenance": []
    },
    "kernelspec": {
      "name": "python3",
      "display_name": "Python 3"
    }
  },
  "cells": [
    {
      "cell_type": "code",
      "metadata": {
        "colab": {
          "resources": {
            "http://localhost:8080/nbextensions/google.colab/files.js": {
              "data": "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",
              "ok": true,
              "headers": [
                [
                  "content-type",
                  "application/javascript"
                ]
              ],
              "status": 200,
              "status_text": ""
            }
          },
          "base_uri": "https://localhost:8080/",
          "height": 111
        },
        "id": "AnE5R5FBEDpE",
        "outputId": "ed411281-4421-46c0-b9e7-a493cc83550c"
      },
      "source": [
        "from google.colab import files\r\n",
        "files.upload()"
      ],
      "execution_count": 1,
      "outputs": [
        {
          "output_type": "display_data",
          "data": {
            "text/html": [
              "\n",
              "     <input type=\"file\" id=\"files-99a00e7a-2029-4bed-a79b-1a6cbac9188d\" name=\"files[]\" multiple disabled\n",
              "        style=\"border:none\" />\n",
              "     <output id=\"result-99a00e7a-2029-4bed-a79b-1a6cbac9188d\">\n",
              "      Upload widget is only available when the cell has been executed in the\n",
              "      current browser session. Please rerun this cell to enable.\n",
              "      </output>\n",
              "      <script src=\"/nbextensions/google.colab/files.js\"></script> "
            ],
            "text/plain": [
              "<IPython.core.display.HTML object>"
            ]
          },
          "metadata": {
            "tags": []
          }
        },
        {
          "output_type": "stream",
          "text": [
            "Saving K-Means-clustering-master.zip to K-Means-clustering-master.zip\n"
          ],
          "name": "stdout"
        },
        {
          "output_type": "execute_result",
          "data": {
            "text/plain": [
              "{'K-Means-clustering-master.zip': b'PK\\x03\\x04\\n\\x00\\x00\\x00\\x00\\x00M\\xb6\\xbfL\\x00\\x00\\x00\\x00\\x00\\x00\\x00\\x00\\x00\\x00\\x00\\x00\\x1a\\x00\\t\\x00K-Means-clustering-master/UT\\x05\\x00\\x01\\xa3\\xde\\x10[PK\\x03\\x04\\n\\x00\\x00\\x00\\x08\\x00M\\xb6\\xbfL\\x8fg\\xc1\\x92\\x93\\x05\\x00\\x00\\xbe\\x10\\x00\\x00\\'\\x00\\t\\x00K-Means-clustering-master/Customers.csvUT\\x05\\x00\\x01\\xa3\\xde\\x10[]W\\xcd\\xae\\x9d5\\x0c\\xdc#\\xf1\\x0e]\\xb0\\xa0R\\x90\\xe2\\xfc{\\x89@\\xa0.\\xba\\xea\\x13T\\xe5\\xa8B\\xb4\\xa7\\xe8B\\xdf\\x1f{\\xec$.\\x8b+]\\xcdq\\x1c\\x8f\\xff2\\xdf/_\\xff\\xf9\\xf7\\xcb\\xe7\\xc7\\xcb\\x9b_\\xd3\\xef\\x8f\\xe7\\xcb#\\xfd\\xfcQ\\xfe\\x9e\\xcf\\xaf\\xef?\\xbdz\\xf3\\xfc ?\\xbd\\xfa\\xf1\\xaf\\x1f^\\xa7w\\x7f?\\x9e\\x7f\\xfc\\xf9\\xfc\\xf8\\xea\\xdd\\x87//\\x82\\xd1O\\x94\\xf3\\xeb\\xef\\xbf\\xcb9Sz\\xfb\\xfe\\xd3#\\x11\\'\\xea\\xa92\\xb0bX!\\xc5\\x16\\x01\\xab\\xe9\\xb7\\xc7g\\xa09\\xd1H\\x03`;`UpN\\xa0}\\xa3U\\x1c\\xcc\\xd42\\xd0ql\\x8b\\xa2\\xd3<\\xccc\\xdb\\x13-w\\xbb\\xa2\\xdb\\x95\\xb8\\x01e\\x8bj4\\r\\xb6*D\\xf9\\x9c\\xce\\n\\xce\\x02\\xd4)\\x8d\\tV8L%\\xde\\xc3\\x89A\\x94\\x0e\\xa9\\xbe\\xc0\\xab\\x03\\xbd\\xac\\x9a\\xa2\\xc6J2\\x01\\xafu\\xc2\\xd2\\xee\\x1f\\x9e\\xa8\\x02;\\xf3\\x19\\x19I\\x06\\xab\\xf9\\\\n\\x99\\x15\\x1b\\xa0IN\\xa8\\x17\\xe5Yp\\xba\\xe4x\\xba&^@\\x9d\\x91b\\xcd=\\x96]$`\\x13\\xf1\\x94\\xc3\\xa7\\r\\xfd\\xc1\\x0c\\x9b\\x1f&\\x85\\xdc\\xf0\\x94\\xa8\\x0b\\xc5\\xe5I*\\x9b\\x0e+\\xb6\\x90\\xccr\\xe8\\xb4\\xaeh5t\\xdd\\x80\\xa4h\\xe8\\x109\\xb5-\\xb3\\xba\\xa8@k\\x0e\\xb5\\x14t!\\x99u\\x97(k\\xe5py=\\x15\\xd2\\xa4e\\x0f\\xb4V\\xcfQM\\xf2\\xaf\\x19:\\x1fI\\xa9@\\x8cx\\xea\\xe1\\xd3XQ\\xe3SGtY\\xbd\\x93\\xebeT\\x928#\\x8bh\\x85V\\xaa;\\xa1\\xf5p\\x12_Zy\\x14\\xae\\xe50\\x0b\\x82N\\xe4\\xb9\\xd1F\\x87\\x0c\\xd2\\xf22\\xb5]\\xa6\\xa6\\x98E\\xdb\\x9cT\\x13#\\t\\xd7|\\xb604\\x82ZN\\xdb7\\xbc\\xb4,@GhP\\xb5\\xb5\\x9b\\x0e\\xaf\\x9e\\xb5\\x04\\xdd\\xd0;K:\\x89\\xa9\\x81m;\\xbc\\xa4$\\x8a\"\\xae\\x9eC\\x0c\\x17\\xa5\\x10\\x83\\xd0\\xe9\\x86:/\\xadJ\\x91:\\x02\\xab\\xf1|\\x95\\xde\\x02\\xea\\xf5\\xea\\xac\\x98[\\xf6\\x18\\xab\\xb8@\\xac\\xdd\\xfbO\\x98(\\x86\\x0c\\xf4\\xcbJ|6\\xb1\\x07\\xea\\xfd7X\\xb1\\x86\\x0cv\\x8eL\\x87\\xd8+*\\x1d\\xb6\\x1bH0\\xb3\\x1c\\xde}3\\xc3\\xce\\xb0r\\xf6\\xa0b\\x88g\\x1c>\\xb2J$(c>Z\\x98\\x1dE1\\xb8\\xc3\\xd7\\x83\\x9c\\x91\\x94\\xfb\\xdd\\xe3t\\xaabfw\\xbb\\xcf,\\xc1g\\x9c*\\r\\xd86\\xd4y\\xf0\\x8di\\x9f\\x9f\\xb7F\\x05\\x96\\xa8\\xe7\\x0c\\x8c\\xd8\\xa3\\x9fg\\xa04\\x9f\\xec\\xd5\\x9c\\x97SF\\xf2\\xcdk\\xfb\\x16\\xb5\\x9c\\xcc~*\\x07\\xaa\\xc0\\xf6\\x8e\\x18\\x8aY\\x85g\\xdc\\x11\\x8abv\\xa6\\xd7H[\\xb19\\xa3\\xc9a\\x1b\\xa8%bZ9t\\x98\\xda\\x1a\\xea\\x9c\\xa4\\x03\\xd4\\x12\\x19]\\xbb\\xeb\\x160\\xf0\\\\\\xf5\\xac{=kv\\x87OC\\x9c\\rq\\xae\\x1e\\xf6\\x81\\x9e\\x07\\xa35\\xce4\\xf6\\xddK\\xebv]G\\x00\\x88~\\xddY*@\\xed\\xfe\\xbb#\\x9a\\xbe#\\xd6\\xe1\\x9cC\\x87\\x0bj~\\x99B\\x9d\\xfb\\xae\\x14\\x97\\xd3\\':$`\\xc0wG\\x8c]%\\xbe\\xac2P\\xbb\\xa9\\x87\\x8e\\x18{jy\\x9c\\xbd\\xa3%5l\\x86\\x8e\\x18{\\x17p\\xdc\\x10(?P\\xbe\\xf7\\x93\\xf9\\x14\\xc9p\\x1e1\\xc5\\x18\\x18\\x85\\x8a\\xca\\x10!z\\xca%TT\\xd1\\x05\\xf4VJ\\xb0n\\xe7\\xdb\\xe9\\'\\xc5:0\\xef;;\\x8b^\\xa4\\x1cw\\xb9z\\xb4\\x88\\x0e#\\x995\\x19=\\xc4N\\xd9;O\\xca\\xa9\\xe3h\\xe7\\xb7zX\\xc0\\xb4C\\x89\\x9c\\x8f\\x9d\\xb5\\x18\\x8fx\\xe8\\xf0\\x87[\\xaex\\x90I\\x1c\\xbe\\xd7\\xe8\\x8a\\x07\\xe9\\xc6\\xe1]K\\xd4\\xce\\xcc\\x0e\\xef&\\xa2S!U8}\\xdf4\\xa2\\xd7\\xee\\xb1_\\xf9 \\x17\\xa9\\xadE\\xbab>\\xbb\\xe7\\x8eN\\xe7\\xc9n\\xd4\\x15\\x05\\xdb\\x12;O\\x87b\\x02u^Z\\xe3\\xe99-%2p\\xa1FADd]\\xb0\\xe8}:*\\x82\\x15cT\\xf9\\xaa\\x0893\\xb3I\\x18*\\x87\\x97\\xbc\\x02\\xd3\\xe5\\x13\\xc9\\xbdo}\\xebM\\x17ET\\xee\\x86\\x10\\x8c\\r\\xe3\\xb3s\\x04#\\xdcS\\xf3\\x99z\\xc1\\xf0\\xda\\xd2V\\x10\\xd2\\xc9z\\x16P9!^\\xb3+[E\\xfb\\xe8{\\x0f4>\\xb6\\x82N\\xbb\\xa6\\x9f\\xf6\\x96-i\\xc7o\\xd7\\xb1\\x82\\x0b\\xb9\\x08\\nB\\x85B\\x02\\xc1\\xba%Q\\x01\\x84R\\xd4\\xbb\\xc0e\\xc3\\x12\\xd2\\xdb\\xa2\\xc2\\x13\\x14\\x9a\\x95\\xaex\\xe8\\xaa\\'\\xec\\xf6\\xad\\x1d\\xd4eO\\x0c\\x97\\xed\\x12\\x92l\\x0c\\xafYP\\x0fEQ\\xa8,j\\x9b\\x90\\\\$Z\\xd8.\\xda{a)\\xc6f7\\xcf\\xac\\x0b\\x06=BW7\\xa8G\\x89\\t\\x89kq\\xd7\\xc9\\x82/\\xf0\\xd9w}\\x801\"\\xeat\\xeb\\xbdLcQ\\x0f\\x05Z\\x9e\\xcb\\xab\\x19\\x9ay\\xb4\\xd3-t\\xe6\\\\\\xf6\\xb1@W5h\\xd5\\xc5\\xab\\xa1#\\xec/\\xf5\\x8bf\\xe8\\xf3\\xc8u\\xb5\\x04\\x14%\\x9e:\\xb5\\x008\\x06\\x0f\\xc3\\x91\\xffg\\x88\\xcc\\x8f[\"\\xf9\\xd2a\\xef\\xe1Qb\\x87\\x88\\xbe5\\xdbz\\n/\\xcf\\x98\\x19\\xc6\\x9e\\x13\\xd0\\xca\\xb9e\\x83\\xa4P^\\'\\xc8K\\x1aw\\x80\\x86\\xa2\\xd6\\xc9c\\x17\\xa9$y\\xb1,MW6\\xa8\\xba\\x1d>B#\\x8aVy\\xc9\\n\\x92?\\xf3i&\\xc1\\x06n\\xdf\\xb2AzR02\\xac\\x9c\\x06Y.mi:\\x1d\\xf3g}<[\\xc4 li^Y\\'\\xb7\\xac\\xedq\\x84t\\n\\xba\\xc0r:\\x9f\\xbe`i\\xf7\\xac\\xb3\\xa4\\x04\\x1b(\\xe4\\xbc\\x0b\\x81]\\xd8\\xd3\\xda\\\\t*\\xbc\\xe1\\xd6)O\\xd5\\xbe\\xb6\\x0f\\x15Z%\\xb4\\xb1\\xa0v\\xf7\\x96\\x0c2\\x0c\\xbc\\xef\\xbe\\x92A\\n\\xc9\\xbb=\\xafd\\x90\\te\\xb6\\x0fd\\xda\\x92A\\xf8\\x08fC\\x14$\\x83\\x8e\\xba|lY\\xa8\\xeb\\xa4S\\xc1a^9x\\xd5g\\xd1\\xe6\\xe3j\\x06I\\xaa\\xc2\\x0b\\x91]\\xd1\\xa0_+\\x02\\x17\\xa4\\x95#5\\x85-_[8\\xe8W\\x90<Q\\xb8\\x8f\\xe38)j\\xfb\\x9b\\xe3<\\x11\\xbe\\xeb\\x01\\x8f\\xb0\\xa1h\\x7f\\xd8\\x12G\\x95\\xa7[\\xbe\\x98\\xef\\xbb\\xf7\\x14\\xb4=\\xb1\\xd5\\x83\\x82R\\x0eR\\xcb\\xb2\\xe5\\x83~\\xab\\x0b\\xb8\\xea\\x7fPK\\x03\\x04\\n\\x00\\x00\\x00\\x00\\x00M\\xb6\\xbfL\\x11\\x01\\x9b\\x9c\\x14\\x00\\x00\\x00\\x14\\x00\\x00\\x00#\\x00\\t\\x00K-Means-clustering-master/README.mdUT\\x05\\x00\\x01\\xa3\\xde\\x10[# K-Means-clusteringPK\\x03\\x04\\n\\x00\\x00\\x00\\x08\\x00M\\xb6\\xbfL\\xc0\\xca\\x8e\\xec\\x7f\\x02\\x00\\x00\\xc6\\x05\\x00\\x00$\\x00\\t\\x00K-Means-clustering-master/kmeanss.pyUT\\x05\\x00\\x01\\xa3\\xde\\x10[\\x8dTmo\\xda0\\x10\\xfe\\x1e)\\xff\\xc1j\\'%\\xac!\"@\\xb5\\x0e)\\xd2*\\xd4I\\x13\\xea\\xbe\\xb0\\xad\\x95\\x10\\x8aLl\\xc0\\xaac[\\xb6)e\\xbf~gchI\\xd7n\\x80\\x04\\xb9\\x97\\xe7\\xb9{\\xee\\x8es\\xd4\\xfd\\xd8E\\xb5$L\\xacFhc\\x97\\xdd+g\\x89\\xa3\\xb3\\xb3\\xb38\\x1ak\\x8a-%H\\nt\\x07_\\xd7J\\xa3\\xe2\\n\\x15\\x9fG\\xfd\\xc1\\xe8\\xf2\\x13\\xea\\xf7\\x8a\\xab8\\x8a\\xa3/\\x13\\xd4P,\\x0c\\xc2|%5\\xb3\\xeb\\x069\\xb3\\x87\\x88#\\xd6(\\xa9-\\x12\\x9bF\\xed\\x106H\\xa8\\xa3MaA\\xc0\\x02\\x1fE\\x8e\\xc6\\x06[\\xc5\\xa5\\xe5l\\x91\\xab\\x9d\\xfb\\xe5\\xfd\\xdc:,\\x82-6\\xd4\\x96\\x8a\\xe4P\\x1a\\xa9j\\xf3\\x98&\\xe3\\x8d\\xb1\\xb2\\xa1\\xda\\xe4\\xf0\\x98t\\\\\\xdc}\\x19\"s\\xc6e=\\x1be\\xb3A6\\x9c\\xcf\\xf3G\\xcc7\\xd4\\xb8\\x88\\xf3\\x9f\\x06ZFvM\\x11\\xe5\\x0b\\xb9\\x85\\x0e\\xecZ\\x12d%Z2A\\xbcC*\\xcb\\x1a\\xcc]\\xe9\\x0b\\xaa\\x91\\\\\\xa2\\x9a\\x03\\x1709\\x84\\xa5\\x96\\r2\\x0f\\x9cb-\\xf2\\xe0@\\xa1\\x87\\xc9\\xad\\xd3\\xc3Emkc\\xca\\xd9\\x1c\\xc2%x\\x11\\x13Hc\\xb1\\xa2i\\x91\\x15Eg\\x14G\\x08^\\x0f^\\xbdr\\x9f\\x94\\x8a\\xea\\xc0R\\xb2\\x0c\\x12\\x98-\\x93\\x87\\xae\\x0f\\xb9\\xb8H2H\\'\\xb2\\xa9\\x8c\\x85\\xc9\\x94\\xbd\\xceK\\x84|\\xc9lz\\x1fL\\x8e8\\xc7JQA\\xd2\\xe0f\\x82j\\xcbp\\xe5%\\x02Es\\xa7n\\xfa\\xa2\\x9e\\xcc%u\\xf6>\\xcb,\\xa7i\\xf2\\x03t\\xb8\\xf1\\x02\\xddz\\x81\\x92\\xe0~\\xe2xAy\\x9a|?j3\\x0eU\\x1f\"v!\\xe2n<\\x9d\\x1elf-\\xb7\\xa9\\xa7?\\xff\\xca\\xacu\\x13\\x98too\\xdc\\xee\\x80\\xf0N\\xf30\\xb78zS\\x94\\xcb\\xec\\xdf\\x9a\\xec\\xaa\\x90\\xfe,L\\xa54%\\xac\\xde\\x0b\\x04\\xfc\\xbf\\x98\\xd9`\\xce~SO\\xfbr\\xb0\\xbe\\xd0\\x1a[xN\\xefgG\\xa8\\xb2\\x97\\xf5\\xe6\\xd9\\xa9\\xa1\\x98g\\xa6,z\\xbd\\xac.\\x13\\x80O2\\xdfs\\x99\\x04-\\x8ac\\xdf\\x7f\\x81+\\xdap\\xc5\\t\\xdc\\x026\\xb5\\x8d\\xd7\\x7f\\x0f\\xaf\\xdf\\xc6\\xeb\\x9f\\xe0\\xad4\\xa5\\xa2\\r8x\\x0fp\\xd0\\x06\\x1c\\x9c\\x00\\xd6;\\xfc\\no\\xf8\\x1e\\xde\\xb0\\x8d7<\\xc1k\\xf0\\x8a\\n\\x8b\\xdb\\x90\\x97I\\xa7=\\x940\\xd40\\xb3\\xaa\\x864\\x18]\\x05g\\x0e\\x04o;=\\xd9`O\\xb6\\xa3\\x9c\\xcb\\xed3\\x17Di\\xc9\\x88y&\\x0b\\xfb\\x7f\\xd8j\\x7f\\xfd\\x87?\\x9a\\xf6\\x11\\\\\\x0b\\x01\\xbb\\x84\\xbe\\x89\\x1a\\xdc\\xe9\\xe4C\\xa7}\\x03Sw\\x86n\\xdb\\xa7\\xb5\\xd4pl]\\xe8\\xf9\\x18\\xc4\\xe9\\xca\\x1d\\xe9\\xab\\x13\\xf9\\xff\\xf7\\x1fPK\\x01\\x02\\x00\\x00\\n\\x00\\x00\\x00\\x00\\x00M\\xb6\\xbfL\\x00\\x00\\x00\\x00\\x00\\x00\\x00\\x00\\x00\\x00\\x00\\x00\\x1a\\x00\\t\\x00\\x00\\x00\\x00\\x00\\x00\\x00\\x10\\x00\\x00\\x00\\x00\\x00\\x00\\x00K-Means-clustering-master/UT\\x05\\x00\\x01\\xa3\\xde\\x10[PK\\x01\\x02\\x00\\x00\\n\\x00\\x00\\x00\\x08\\x00M\\xb6\\xbfL\\x8fg\\xc1\\x92\\x93\\x05\\x00\\x00\\xbe\\x10\\x00\\x00\\'\\x00\\t\\x00\\x00\\x00\\x00\\x00\\x01\\x00\\x00\\x00\\x00\\x00A\\x00\\x00\\x00K-Means-clustering-master/Customers.csvUT\\x05\\x00\\x01\\xa3\\xde\\x10[PK\\x01\\x02\\x00\\x00\\n\\x00\\x00\\x00\\x00\\x00M\\xb6\\xbfL\\x11\\x01\\x9b\\x9c\\x14\\x00\\x00\\x00\\x14\\x00\\x00\\x00#\\x00\\t\\x00\\x00\\x00\\x00\\x00\\x01\\x00\\x00\\x00\\x00\\x00\"\\x06\\x00\\x00K-Means-clustering-master/README.mdUT\\x05\\x00\\x01\\xa3\\xde\\x10[PK\\x01\\x02\\x00\\x00\\n\\x00\\x00\\x00\\x08\\x00M\\xb6\\xbfL\\xc0\\xca\\x8e\\xec\\x7f\\x02\\x00\\x00\\xc6\\x05\\x00\\x00$\\x00\\t\\x00\\x00\\x00\\x00\\x00\\x01\\x00\\x00\\x00\\x00\\x00\\x80\\x06\\x00\\x00K-Means-clustering-master/kmeanss.pyUT\\x05\\x00\\x01\\xa3\\xde\\x10[PK\\x05\\x06\\x00\\x00\\x00\\x00\\x04\\x00\\x04\\x00d\\x01\\x00\\x00J\\t\\x00\\x00(\\x00c6f1b21f1f13962dfff998bab937c893b75879fa'}"
            ]
          },
          "metadata": {
            "tags": []
          },
          "execution_count": 1
        }
      ]
    },
    {
      "cell_type": "code",
      "metadata": {
        "colab": {
          "base_uri": "https://localhost:8080/"
        },
        "id": "jBKa5Dt3EPie",
        "outputId": "be5f3d6c-c582-4183-92fa-58d5bcb75429"
      },
      "source": [
        "from zipfile import ZipFile\r\n",
        "filename='/content/K-Means-clustering-master.zip'\r\n",
        "\r\n",
        "with ZipFile(filename, 'r') as zip:\r\n",
        "  zip.extractall()\r\n",
        "  print('Done')"
      ],
      "execution_count": 2,
      "outputs": [
        {
          "output_type": "stream",
          "text": [
            "Done\n"
          ],
          "name": "stdout"
        }
      ]
    },
    {
      "cell_type": "code",
      "metadata": {
        "id": "zcmL814qEheH"
      },
      "source": [
        "import numpy as np\r\n",
        "import pandas as pd\r\n",
        "import matplotlib.pyplot as plt"
      ],
      "execution_count": 3,
      "outputs": []
    },
    {
      "cell_type": "code",
      "metadata": {
        "colab": {
          "base_uri": "https://localhost:8080/",
          "height": 197
        },
        "id": "A7q7eTGmEozV",
        "outputId": "66785052-8492-41b8-e41e-8cd1ea1cf4a6"
      },
      "source": [
        "df=pd.read_csv('/content/K-Means-clustering-master/Customers.csv')\r\n",
        "df.head()"
      ],
      "execution_count": 4,
      "outputs": [
        {
          "output_type": "execute_result",
          "data": {
            "text/html": [
              "<div>\n",
              "<style scoped>\n",
              "    .dataframe tbody tr th:only-of-type {\n",
              "        vertical-align: middle;\n",
              "    }\n",
              "\n",
              "    .dataframe tbody tr th {\n",
              "        vertical-align: top;\n",
              "    }\n",
              "\n",
              "    .dataframe thead th {\n",
              "        text-align: right;\n",
              "    }\n",
              "</style>\n",
              "<table border=\"1\" class=\"dataframe\">\n",
              "  <thead>\n",
              "    <tr style=\"text-align: right;\">\n",
              "      <th></th>\n",
              "      <th>CustomerID</th>\n",
              "      <th>Genre</th>\n",
              "      <th>Age</th>\n",
              "      <th>Annual Income (k$)</th>\n",
              "      <th>Spending Score (1-100)</th>\n",
              "    </tr>\n",
              "  </thead>\n",
              "  <tbody>\n",
              "    <tr>\n",
              "      <th>0</th>\n",
              "      <td>1</td>\n",
              "      <td>Male</td>\n",
              "      <td>19</td>\n",
              "      <td>15</td>\n",
              "      <td>39</td>\n",
              "    </tr>\n",
              "    <tr>\n",
              "      <th>1</th>\n",
              "      <td>2</td>\n",
              "      <td>Male</td>\n",
              "      <td>21</td>\n",
              "      <td>15</td>\n",
              "      <td>81</td>\n",
              "    </tr>\n",
              "    <tr>\n",
              "      <th>2</th>\n",
              "      <td>3</td>\n",
              "      <td>Female</td>\n",
              "      <td>20</td>\n",
              "      <td>16</td>\n",
              "      <td>6</td>\n",
              "    </tr>\n",
              "    <tr>\n",
              "      <th>3</th>\n",
              "      <td>4</td>\n",
              "      <td>Female</td>\n",
              "      <td>23</td>\n",
              "      <td>16</td>\n",
              "      <td>77</td>\n",
              "    </tr>\n",
              "    <tr>\n",
              "      <th>4</th>\n",
              "      <td>5</td>\n",
              "      <td>Female</td>\n",
              "      <td>31</td>\n",
              "      <td>17</td>\n",
              "      <td>40</td>\n",
              "    </tr>\n",
              "  </tbody>\n",
              "</table>\n",
              "</div>"
            ],
            "text/plain": [
              "   CustomerID   Genre  Age  Annual Income (k$)  Spending Score (1-100)\n",
              "0           1    Male   19                  15                      39\n",
              "1           2    Male   21                  15                      81\n",
              "2           3  Female   20                  16                       6\n",
              "3           4  Female   23                  16                      77\n",
              "4           5  Female   31                  17                      40"
            ]
          },
          "metadata": {
            "tags": []
          },
          "execution_count": 4
        }
      ]
    },
    {
      "cell_type": "code",
      "metadata": {
        "colab": {
          "base_uri": "https://localhost:8080/",
          "height": 197
        },
        "id": "XKxB5BE0ExtY",
        "outputId": "04c32030-cf3e-41ce-828b-866c90b08f49"
      },
      "source": [
        "X=df.iloc[:,3:]\r\n",
        "X.head()"
      ],
      "execution_count": 6,
      "outputs": [
        {
          "output_type": "execute_result",
          "data": {
            "text/html": [
              "<div>\n",
              "<style scoped>\n",
              "    .dataframe tbody tr th:only-of-type {\n",
              "        vertical-align: middle;\n",
              "    }\n",
              "\n",
              "    .dataframe tbody tr th {\n",
              "        vertical-align: top;\n",
              "    }\n",
              "\n",
              "    .dataframe thead th {\n",
              "        text-align: right;\n",
              "    }\n",
              "</style>\n",
              "<table border=\"1\" class=\"dataframe\">\n",
              "  <thead>\n",
              "    <tr style=\"text-align: right;\">\n",
              "      <th></th>\n",
              "      <th>Annual Income (k$)</th>\n",
              "      <th>Spending Score (1-100)</th>\n",
              "    </tr>\n",
              "  </thead>\n",
              "  <tbody>\n",
              "    <tr>\n",
              "      <th>0</th>\n",
              "      <td>15</td>\n",
              "      <td>39</td>\n",
              "    </tr>\n",
              "    <tr>\n",
              "      <th>1</th>\n",
              "      <td>15</td>\n",
              "      <td>81</td>\n",
              "    </tr>\n",
              "    <tr>\n",
              "      <th>2</th>\n",
              "      <td>16</td>\n",
              "      <td>6</td>\n",
              "    </tr>\n",
              "    <tr>\n",
              "      <th>3</th>\n",
              "      <td>16</td>\n",
              "      <td>77</td>\n",
              "    </tr>\n",
              "    <tr>\n",
              "      <th>4</th>\n",
              "      <td>17</td>\n",
              "      <td>40</td>\n",
              "    </tr>\n",
              "  </tbody>\n",
              "</table>\n",
              "</div>"
            ],
            "text/plain": [
              "   Annual Income (k$)  Spending Score (1-100)\n",
              "0                  15                      39\n",
              "1                  15                      81\n",
              "2                  16                       6\n",
              "3                  16                      77\n",
              "4                  17                      40"
            ]
          },
          "metadata": {
            "tags": []
          },
          "execution_count": 6
        }
      ]
    },
    {
      "cell_type": "code",
      "metadata": {
        "id": "qcJteuTLE5Vb"
      },
      "source": [
        "from sklearn.cluster import KMeans"
      ],
      "execution_count": 7,
      "outputs": []
    },
    {
      "cell_type": "code",
      "metadata": {
        "id": "OUP3aZomFKZU"
      },
      "source": [
        "wcss=[]"
      ],
      "execution_count": 9,
      "outputs": []
    },
    {
      "cell_type": "code",
      "metadata": {
        "id": "SurbZqY-FOp1"
      },
      "source": [
        "for i in range(1,11):\r\n",
        "  kmean=KMeans(n_clusters=i, init='k-means++', random_state=0)\r\n",
        "  kmean.fit(X)\r\n",
        "  wcss.append(kmean.inertia_)"
      ],
      "execution_count": 10,
      "outputs": []
    },
    {
      "cell_type": "code",
      "metadata": {
        "colab": {
          "base_uri": "https://localhost:8080/",
          "height": 313
        },
        "id": "eU6W3zUyGBfW",
        "outputId": "293e1d13-6342-43fc-f574-a1a976721185"
      },
      "source": [
        "plt.plot(range(1,11), wcss)\r\n",
        "plt.title('The Elbow Method')\r\n",
        "plt.xlabel('K_Value')\r\n",
        "plt.ylabel('WCSS')"
      ],
      "execution_count": 11,
      "outputs": [
        {
          "output_type": "execute_result",
          "data": {
            "text/plain": [
              "Text(0, 0.5, 'WCSS')"
            ]
          },
          "metadata": {
            "tags": []
          },
          "execution_count": 11
        },
        {
          "output_type": "display_data",
          "data": {
            "image/png": "[encoded data removed]",
            "text/plain": [
              "<Figure size 432x288 with 1 Axes>"
            ]
          },
          "metadata": {
            "tags": [],
            "needs_background": "light"
          }
        }
      ]
    },
    {
      "cell_type": "code",
      "metadata": {
        "colab": {
          "base_uri": "https://localhost:8080/"
        },
        "id": "fuKnIA3VGUN-",
        "outputId": "17289a82-400e-47a7-f34c-b181f1825381"
      },
      "source": [
        "y_kmeans=KMeans(n_clusters=5, init='k-means++', random_state=0)\r\n",
        "y_kmeans.fit_predict(X)"
      ],
      "execution_count": 16,
      "outputs": [
        {
          "output_type": "execute_result",
          "data": {
            "text/plain": [
              "array([3, 1, 3, 1, 3, 1, 3, 1, 3, 1, 3, 1, 3, 1, 3, 1, 3, 1, 3, 1, 3, 1,\n",
              "       3, 1, 3, 1, 3, 1, 3, 1, 3, 1, 3, 1, 3, 1, 3, 1, 3, 1, 3, 1, 3, 0,\n",
              "       3, 1, 0, 0, 0, 0, 0, 0, 0, 0, 0, 0, 0, 0, 0, 0, 0, 0, 0, 0, 0, 0,\n",
              "       0, 0, 0, 0, 0, 0, 0, 0, 0, 0, 0, 0, 0, 0, 0, 0, 0, 0, 0, 0, 0, 0,\n",
              "       0, 0, 0, 0, 0, 0, 0, 0, 0, 0, 0, 0, 0, 0, 0, 0, 0, 0, 0, 0, 0, 0,\n",
              "       0, 0, 0, 0, 0, 0, 0, 0, 0, 0, 0, 0, 0, 2, 4, 2, 0, 2, 4, 2, 4, 2,\n",
              "       0, 2, 4, 2, 4, 2, 4, 2, 4, 2, 0, 2, 4, 2, 4, 2, 4, 2, 4, 2, 4, 2,\n",
              "       4, 2, 4, 2, 4, 2, 4, 2, 4, 2, 4, 2, 4, 2, 4, 2, 4, 2, 4, 2, 4, 2,\n",
              "       4, 2, 4, 2, 4, 2, 4, 2, 4, 2, 4, 2, 4, 2, 4, 2, 4, 2, 4, 2, 4, 2,\n",
              "       4, 2], dtype=int32)"
            ]
          },
          "metadata": {
            "tags": []
          },
          "execution_count": 16
        }
      ]
    },
    {
      "cell_type": "code",
      "metadata": {
        "id": "QE7AU0eGGf-F"
      },
      "source": [
        "\r\n"
      ],
      "execution_count": 17,
      "outputs": []
    },
    {
      "cell_type": "code",
      "metadata": {
        "id": "pxyR1v8iHwX2"
      },
      "source": [
        ""
      ],
      "execution_count": null,
      "outputs": []
    }
  ]
}